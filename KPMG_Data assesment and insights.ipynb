{
 "cells": [
  {
   "cell_type": "code",
   "execution_count": 1,
   "id": "d4ec18c8",
   "metadata": {},
   "outputs": [
    {
     "name": "stdout",
     "output_type": "stream",
     "text": [
      "Index(['Unnamed: 0',\n",
      "       'Note: The data and information in this document is reflective of a hypothetical situation and client. This document is to be used for KPMG Virtual Internship purposes only. ',\n",
      "       'Unnamed: 2', 'Unnamed: 3', 'Unnamed: 4', 'Unnamed: 5', 'Unnamed: 6',\n",
      "       'Unnamed: 7', 'Unnamed: 8', 'Unnamed: 9', 'Unnamed: 10', 'Unnamed: 11',\n",
      "       'Unnamed: 12', 'Unnamed: 13', 'Unnamed: 14', 'Unnamed: 15',\n",
      "       'Unnamed: 16', 'Unnamed: 17', 'Unnamed: 18', 'Unnamed: 19',\n",
      "       'Unnamed: 20', 'Unnamed: 21', 'Unnamed: 22', 'Unnamed: 23',\n",
      "       'Unnamed: 24', 'Unnamed: 25'],\n",
      "      dtype='object')\n"
     ]
    },
    {
     "ename": "KeyError",
     "evalue": "'online_order'",
     "output_type": "error",
     "traceback": [
      "\u001b[1;31m---------------------------------------------------------------------------\u001b[0m",
      "\u001b[1;31mKeyError\u001b[0m                                  Traceback (most recent call last)",
      "\u001b[1;32mc:\\python\\python39-32\\lib\\site-packages\\pandas\\core\\indexes\\base.py\u001b[0m in \u001b[0;36mget_loc\u001b[1;34m(self, key, method, tolerance)\u001b[0m\n\u001b[0;32m   3079\u001b[0m             \u001b[1;32mtry\u001b[0m\u001b[1;33m:\u001b[0m\u001b[1;33m\u001b[0m\u001b[1;33m\u001b[0m\u001b[0m\n\u001b[1;32m-> 3080\u001b[1;33m                 \u001b[1;32mreturn\u001b[0m \u001b[0mself\u001b[0m\u001b[1;33m.\u001b[0m\u001b[0m_engine\u001b[0m\u001b[1;33m.\u001b[0m\u001b[0mget_loc\u001b[0m\u001b[1;33m(\u001b[0m\u001b[0mcasted_key\u001b[0m\u001b[1;33m)\u001b[0m\u001b[1;33m\u001b[0m\u001b[1;33m\u001b[0m\u001b[0m\n\u001b[0m\u001b[0;32m   3081\u001b[0m             \u001b[1;32mexcept\u001b[0m \u001b[0mKeyError\u001b[0m \u001b[1;32mas\u001b[0m \u001b[0merr\u001b[0m\u001b[1;33m:\u001b[0m\u001b[1;33m\u001b[0m\u001b[1;33m\u001b[0m\u001b[0m\n",
      "\u001b[1;32mpandas\\_libs\\index.pyx\u001b[0m in \u001b[0;36mpandas._libs.index.IndexEngine.get_loc\u001b[1;34m()\u001b[0m\n",
      "\u001b[1;32mpandas\\_libs\\index.pyx\u001b[0m in \u001b[0;36mpandas._libs.index.IndexEngine.get_loc\u001b[1;34m()\u001b[0m\n",
      "\u001b[1;32mpandas\\_libs\\hashtable_class_helper.pxi\u001b[0m in \u001b[0;36mpandas._libs.hashtable.PyObjectHashTable.get_item\u001b[1;34m()\u001b[0m\n",
      "\u001b[1;32mpandas\\_libs\\hashtable_class_helper.pxi\u001b[0m in \u001b[0;36mpandas._libs.hashtable.PyObjectHashTable.get_item\u001b[1;34m()\u001b[0m\n",
      "\u001b[1;31mKeyError\u001b[0m: 'online_order'",
      "\nThe above exception was the direct cause of the following exception:\n",
      "\u001b[1;31mKeyError\u001b[0m                                  Traceback (most recent call last)",
      "\u001b[1;32m<ipython-input-1-3dc5185a041c>\u001b[0m in \u001b[0;36m<module>\u001b[1;34m\u001b[0m\n\u001b[0;32m      5\u001b[0m \u001b[0msheet1\u001b[0m \u001b[1;33m=\u001b[0m \u001b[0msheet1\u001b[0m\u001b[1;33m.\u001b[0m\u001b[0miloc\u001b[0m\u001b[1;33m[\u001b[0m\u001b[1;33m:\u001b[0m\u001b[1;33m-\u001b[0m\u001b[1;36m1\u001b[0m\u001b[1;33m]\u001b[0m\u001b[1;33m\u001b[0m\u001b[1;33m\u001b[0m\u001b[0m\n\u001b[0;32m      6\u001b[0m \u001b[0mprint\u001b[0m\u001b[1;33m(\u001b[0m\u001b[0msheet1\u001b[0m\u001b[1;33m.\u001b[0m\u001b[0mcolumns\u001b[0m\u001b[1;33m)\u001b[0m\u001b[1;33m\u001b[0m\u001b[1;33m\u001b[0m\u001b[0m\n\u001b[1;32m----> 7\u001b[1;33m \u001b[0msheet1\u001b[0m\u001b[1;33m[\u001b[0m\u001b[1;34m\"online_order\"\u001b[0m\u001b[1;33m]\u001b[0m\u001b[1;33m\u001b[0m\u001b[1;33m\u001b[0m\u001b[0m\n\u001b[0m",
      "\u001b[1;32mc:\\python\\python39-32\\lib\\site-packages\\pandas\\core\\frame.py\u001b[0m in \u001b[0;36m__getitem__\u001b[1;34m(self, key)\u001b[0m\n\u001b[0;32m   3022\u001b[0m             \u001b[1;32mif\u001b[0m \u001b[0mself\u001b[0m\u001b[1;33m.\u001b[0m\u001b[0mcolumns\u001b[0m\u001b[1;33m.\u001b[0m\u001b[0mnlevels\u001b[0m \u001b[1;33m>\u001b[0m \u001b[1;36m1\u001b[0m\u001b[1;33m:\u001b[0m\u001b[1;33m\u001b[0m\u001b[1;33m\u001b[0m\u001b[0m\n\u001b[0;32m   3023\u001b[0m                 \u001b[1;32mreturn\u001b[0m \u001b[0mself\u001b[0m\u001b[1;33m.\u001b[0m\u001b[0m_getitem_multilevel\u001b[0m\u001b[1;33m(\u001b[0m\u001b[0mkey\u001b[0m\u001b[1;33m)\u001b[0m\u001b[1;33m\u001b[0m\u001b[1;33m\u001b[0m\u001b[0m\n\u001b[1;32m-> 3024\u001b[1;33m             \u001b[0mindexer\u001b[0m \u001b[1;33m=\u001b[0m \u001b[0mself\u001b[0m\u001b[1;33m.\u001b[0m\u001b[0mcolumns\u001b[0m\u001b[1;33m.\u001b[0m\u001b[0mget_loc\u001b[0m\u001b[1;33m(\u001b[0m\u001b[0mkey\u001b[0m\u001b[1;33m)\u001b[0m\u001b[1;33m\u001b[0m\u001b[1;33m\u001b[0m\u001b[0m\n\u001b[0m\u001b[0;32m   3025\u001b[0m             \u001b[1;32mif\u001b[0m \u001b[0mis_integer\u001b[0m\u001b[1;33m(\u001b[0m\u001b[0mindexer\u001b[0m\u001b[1;33m)\u001b[0m\u001b[1;33m:\u001b[0m\u001b[1;33m\u001b[0m\u001b[1;33m\u001b[0m\u001b[0m\n\u001b[0;32m   3026\u001b[0m                 \u001b[0mindexer\u001b[0m \u001b[1;33m=\u001b[0m \u001b[1;33m[\u001b[0m\u001b[0mindexer\u001b[0m\u001b[1;33m]\u001b[0m\u001b[1;33m\u001b[0m\u001b[1;33m\u001b[0m\u001b[0m\n",
      "\u001b[1;32mc:\\python\\python39-32\\lib\\site-packages\\pandas\\core\\indexes\\base.py\u001b[0m in \u001b[0;36mget_loc\u001b[1;34m(self, key, method, tolerance)\u001b[0m\n\u001b[0;32m   3080\u001b[0m                 \u001b[1;32mreturn\u001b[0m \u001b[0mself\u001b[0m\u001b[1;33m.\u001b[0m\u001b[0m_engine\u001b[0m\u001b[1;33m.\u001b[0m\u001b[0mget_loc\u001b[0m\u001b[1;33m(\u001b[0m\u001b[0mcasted_key\u001b[0m\u001b[1;33m)\u001b[0m\u001b[1;33m\u001b[0m\u001b[1;33m\u001b[0m\u001b[0m\n\u001b[0;32m   3081\u001b[0m             \u001b[1;32mexcept\u001b[0m \u001b[0mKeyError\u001b[0m \u001b[1;32mas\u001b[0m \u001b[0merr\u001b[0m\u001b[1;33m:\u001b[0m\u001b[1;33m\u001b[0m\u001b[1;33m\u001b[0m\u001b[0m\n\u001b[1;32m-> 3082\u001b[1;33m                 \u001b[1;32mraise\u001b[0m \u001b[0mKeyError\u001b[0m\u001b[1;33m(\u001b[0m\u001b[0mkey\u001b[0m\u001b[1;33m)\u001b[0m \u001b[1;32mfrom\u001b[0m \u001b[0merr\u001b[0m\u001b[1;33m\u001b[0m\u001b[1;33m\u001b[0m\u001b[0m\n\u001b[0m\u001b[0;32m   3083\u001b[0m \u001b[1;33m\u001b[0m\u001b[0m\n\u001b[0;32m   3084\u001b[0m         \u001b[1;32mif\u001b[0m \u001b[0mtolerance\u001b[0m \u001b[1;32mis\u001b[0m \u001b[1;32mnot\u001b[0m \u001b[1;32mNone\u001b[0m\u001b[1;33m:\u001b[0m\u001b[1;33m\u001b[0m\u001b[1;33m\u001b[0m\u001b[0m\n",
      "\u001b[1;31mKeyError\u001b[0m: 'online_order'"
     ]
    }
   ],
   "source": [
    "import pandas as pd\n",
    "import numpy as np\n",
    "import math\n",
    "sheet1 = pd.read_csv(\"KPMG_Task2_clustering.csv\")\n",
    "sheet1 = sheet1.iloc[:-1]\n",
    "print(sheet1.columns)\n",
    "sheet1[\"online_order\"]"
   ]
  },
  {
   "cell_type": "code",
   "execution_count": 75,
   "id": "9311bb97",
   "metadata": {},
   "outputs": [
    {
     "data": {
      "text/plain": [
       "<AxesSubplot:>"
      ]
     },
     "execution_count": 75,
     "metadata": {},
     "output_type": "execute_result"
    },
    {
     "data": {
      "image/png": "[encoded data removed]",
      "text/plain": [
       "<Figure size 432x288 with 1 Axes>"
      ]
     },
     "metadata": {
      "needs_background": "light"
     },
     "output_type": "display_data"
    }
   ],
   "source": [
    "PROFIT = sheet1['Profit']\n",
    "PROFIT.hist()\n"
   ]
  },
  {
   "cell_type": "code",
   "execution_count": 76,
   "id": "197b4da6",
   "metadata": {},
   "outputs": [
    {
     "data": {
      "text/plain": [
       "<AxesSubplot:>"
      ]
     },
     "execution_count": 76,
     "metadata": {},
     "output_type": "execute_result"
    },
    {
     "data": {
      "image/png": "[encoded data removed]",
      "text/plain": [
       "<Figure size 432x288 with 1 Axes>"
      ]
     },
     "metadata": {
      "needs_background": "light"
     },
     "output_type": "display_data"
    }
   ],
   "source": [
    "TENURE = sheet1[\"tenure\"]\n",
    "TENURE.hist()"
   ]
  },
  {
   "cell_type": "code",
   "execution_count": 77,
   "id": "4a4b746a",
   "metadata": {},
   "outputs": [
    {
     "data": {
      "text/plain": [
       "Text(0.5, 0, 'product_line')"
      ]
     },
     "execution_count": 77,
     "metadata": {},
     "output_type": "execute_result"
    },
    {
     "data": {
      "image/png": "[encoded data removed]",
      "text/plain": [
       "<Figure size 432x288 with 1 Axes>"
      ]
     },
     "metadata": {
      "needs_background": "light"
     },
     "output_type": "display_data"
    }
   ],
   "source": [
    "PRODUCT_LINE = sheet1[\"product_line\"]\n",
    "PRODUCT_LINE.hist()\n",
    "import matplotlib.pyplot as plt\n",
    "plt.xlabel(\"Values\")\n",
    "plt.xlabel(\"product_line\")"
   ]
  },
  {
   "cell_type": "code",
   "execution_count": 78,
   "id": "412e604d",
   "metadata": {},
   "outputs": [
    {
     "data": {
      "text/plain": [
       "<AxesSubplot:>"
      ]
     },
     "execution_count": 78,
     "metadata": {},
     "output_type": "execute_result"
    },
    {
     "data": {
      "image/png": "[encoded data removed]",
      "text/plain": [
       "<Figure size 432x288 with 1 Axes>"
      ]
     },
     "metadata": {
      "needs_background": "light"
     },
     "output_type": "display_data"
    }
   ],
   "source": [
    "STATES = sheet1[\"state\"]\n",
    "STATES.hist()"
   ]
  },
  {
   "cell_type": "code",
   "execution_count": 79,
   "id": "29b3b720",
   "metadata": {},
   "outputs": [
    {
     "ename": "TypeError",
     "evalue": "numpy boolean subtract, the `-` operator, is not supported, use the bitwise_xor, the `^` operator, or the logical_xor function instead.",
     "output_type": "error",
     "traceback": [
      "\u001b[1;31m---------------------------------------------------------------------------\u001b[0m",
      "\u001b[1;31mKeyError\u001b[0m                                  Traceback (most recent call last)",
      "\u001b[1;32mc:\\python\\python39-32\\lib\\site-packages\\numpy\\lib\\histograms.py\u001b[0m in \u001b[0;36m_unsigned_subtract\u001b[1;34m(a, b)\u001b[0m\n\u001b[0;32m    350\u001b[0m     \u001b[1;32mtry\u001b[0m\u001b[1;33m:\u001b[0m\u001b[1;33m\u001b[0m\u001b[1;33m\u001b[0m\u001b[0m\n\u001b[1;32m--> 351\u001b[1;33m         \u001b[0mdt\u001b[0m \u001b[1;33m=\u001b[0m \u001b[0msigned_to_unsigned\u001b[0m\u001b[1;33m[\u001b[0m\u001b[0mdt\u001b[0m\u001b[1;33m.\u001b[0m\u001b[0mtype\u001b[0m\u001b[1;33m]\u001b[0m\u001b[1;33m\u001b[0m\u001b[1;33m\u001b[0m\u001b[0m\n\u001b[0m\u001b[0;32m    352\u001b[0m     \u001b[1;32mexcept\u001b[0m \u001b[0mKeyError\u001b[0m\u001b[1;33m:\u001b[0m\u001b[1;33m\u001b[0m\u001b[1;33m\u001b[0m\u001b[0m\n",
      "\u001b[1;31mKeyError\u001b[0m: <class 'numpy.bool_'>",
      "\nDuring handling of the above exception, another exception occurred:\n",
      "\u001b[1;31mTypeError\u001b[0m                                 Traceback (most recent call last)",
      "\u001b[1;32m<ipython-input-79-29a744385949>\u001b[0m in \u001b[0;36m<module>\u001b[1;34m\u001b[0m\n\u001b[0;32m      1\u001b[0m \u001b[0mRecency2\u001b[0m \u001b[1;33m=\u001b[0m \u001b[0msheet1\u001b[0m\u001b[1;33m[\u001b[0m\u001b[1;34m\"online_order\"\u001b[0m\u001b[1;33m]\u001b[0m\u001b[1;33m\u001b[0m\u001b[1;33m\u001b[0m\u001b[0m\n\u001b[1;32m----> 2\u001b[1;33m \u001b[0mRecency2\u001b[0m\u001b[1;33m.\u001b[0m\u001b[0mhist\u001b[0m\u001b[1;33m(\u001b[0m\u001b[1;33m)\u001b[0m\u001b[1;33m\u001b[0m\u001b[1;33m\u001b[0m\u001b[0m\n\u001b[0m",
      "\u001b[1;32mc:\\python\\python39-32\\lib\\site-packages\\pandas\\plotting\\_core.py\u001b[0m in \u001b[0;36mhist_series\u001b[1;34m(self, by, ax, grid, xlabelsize, xrot, ylabelsize, yrot, figsize, bins, backend, legend, **kwargs)\u001b[0m\n\u001b[0;32m     83\u001b[0m     \"\"\"\n\u001b[0;32m     84\u001b[0m     \u001b[0mplot_backend\u001b[0m \u001b[1;33m=\u001b[0m \u001b[0m_get_plot_backend\u001b[0m\u001b[1;33m(\u001b[0m\u001b[0mbackend\u001b[0m\u001b[1;33m)\u001b[0m\u001b[1;33m\u001b[0m\u001b[1;33m\u001b[0m\u001b[0m\n\u001b[1;32m---> 85\u001b[1;33m     return plot_backend.hist_series(\n\u001b[0m\u001b[0;32m     86\u001b[0m         \u001b[0mself\u001b[0m\u001b[1;33m,\u001b[0m\u001b[1;33m\u001b[0m\u001b[1;33m\u001b[0m\u001b[0m\n\u001b[0;32m     87\u001b[0m         \u001b[0mby\u001b[0m\u001b[1;33m=\u001b[0m\u001b[0mby\u001b[0m\u001b[1;33m,\u001b[0m\u001b[1;33m\u001b[0m\u001b[1;33m\u001b[0m\u001b[0m\n",
      "\u001b[1;32mc:\\python\\python39-32\\lib\\site-packages\\pandas\\plotting\\_matplotlib\\hist.py\u001b[0m in \u001b[0;36mhist_series\u001b[1;34m(self, by, ax, grid, xlabelsize, xrot, ylabelsize, yrot, figsize, bins, legend, **kwds)\u001b[0m\n\u001b[0;32m    336\u001b[0m         \u001b[1;32mif\u001b[0m \u001b[0mlegend\u001b[0m\u001b[1;33m:\u001b[0m\u001b[1;33m\u001b[0m\u001b[1;33m\u001b[0m\u001b[0m\n\u001b[0;32m    337\u001b[0m             \u001b[0mkwds\u001b[0m\u001b[1;33m[\u001b[0m\u001b[1;34m\"label\"\u001b[0m\u001b[1;33m]\u001b[0m \u001b[1;33m=\u001b[0m \u001b[0mself\u001b[0m\u001b[1;33m.\u001b[0m\u001b[0mname\u001b[0m\u001b[1;33m\u001b[0m\u001b[1;33m\u001b[0m\u001b[0m\n\u001b[1;32m--> 338\u001b[1;33m         \u001b[0max\u001b[0m\u001b[1;33m.\u001b[0m\u001b[0mhist\u001b[0m\u001b[1;33m(\u001b[0m\u001b[0mvalues\u001b[0m\u001b[1;33m,\u001b[0m \u001b[0mbins\u001b[0m\u001b[1;33m=\u001b[0m\u001b[0mbins\u001b[0m\u001b[1;33m,\u001b[0m \u001b[1;33m**\u001b[0m\u001b[0mkwds\u001b[0m\u001b[1;33m)\u001b[0m\u001b[1;33m\u001b[0m\u001b[1;33m\u001b[0m\u001b[0m\n\u001b[0m\u001b[0;32m    339\u001b[0m         \u001b[1;32mif\u001b[0m \u001b[0mlegend\u001b[0m\u001b[1;33m:\u001b[0m\u001b[1;33m\u001b[0m\u001b[1;33m\u001b[0m\u001b[0m\n\u001b[0;32m    340\u001b[0m             \u001b[0max\u001b[0m\u001b[1;33m.\u001b[0m\u001b[0mlegend\u001b[0m\u001b[1;33m(\u001b[0m\u001b[1;33m)\u001b[0m\u001b[1;33m\u001b[0m\u001b[1;33m\u001b[0m\u001b[0m\n",
      "\u001b[1;32mc:\\python\\python39-32\\lib\\site-packages\\matplotlib\\__init__.py\u001b[0m in \u001b[0;36minner\u001b[1;34m(ax, data, *args, **kwargs)\u001b[0m\n\u001b[0;32m   1359\u001b[0m     \u001b[1;32mdef\u001b[0m \u001b[0minner\u001b[0m\u001b[1;33m(\u001b[0m\u001b[0max\u001b[0m\u001b[1;33m,\u001b[0m \u001b[1;33m*\u001b[0m\u001b[0margs\u001b[0m\u001b[1;33m,\u001b[0m \u001b[0mdata\u001b[0m\u001b[1;33m=\u001b[0m\u001b[1;32mNone\u001b[0m\u001b[1;33m,\u001b[0m \u001b[1;33m**\u001b[0m\u001b[0mkwargs\u001b[0m\u001b[1;33m)\u001b[0m\u001b[1;33m:\u001b[0m\u001b[1;33m\u001b[0m\u001b[1;33m\u001b[0m\u001b[0m\n\u001b[0;32m   1360\u001b[0m         \u001b[1;32mif\u001b[0m \u001b[0mdata\u001b[0m \u001b[1;32mis\u001b[0m \u001b[1;32mNone\u001b[0m\u001b[1;33m:\u001b[0m\u001b[1;33m\u001b[0m\u001b[1;33m\u001b[0m\u001b[0m\n\u001b[1;32m-> 1361\u001b[1;33m             \u001b[1;32mreturn\u001b[0m \u001b[0mfunc\u001b[0m\u001b[1;33m(\u001b[0m\u001b[0max\u001b[0m\u001b[1;33m,\u001b[0m \u001b[1;33m*\u001b[0m\u001b[0mmap\u001b[0m\u001b[1;33m(\u001b[0m\u001b[0msanitize_sequence\u001b[0m\u001b[1;33m,\u001b[0m \u001b[0margs\u001b[0m\u001b[1;33m)\u001b[0m\u001b[1;33m,\u001b[0m \u001b[1;33m**\u001b[0m\u001b[0mkwargs\u001b[0m\u001b[1;33m)\u001b[0m\u001b[1;33m\u001b[0m\u001b[1;33m\u001b[0m\u001b[0m\n\u001b[0m\u001b[0;32m   1362\u001b[0m \u001b[1;33m\u001b[0m\u001b[0m\n\u001b[0;32m   1363\u001b[0m         \u001b[0mbound\u001b[0m \u001b[1;33m=\u001b[0m \u001b[0mnew_sig\u001b[0m\u001b[1;33m.\u001b[0m\u001b[0mbind\u001b[0m\u001b[1;33m(\u001b[0m\u001b[0max\u001b[0m\u001b[1;33m,\u001b[0m \u001b[1;33m*\u001b[0m\u001b[0margs\u001b[0m\u001b[1;33m,\u001b[0m \u001b[1;33m**\u001b[0m\u001b[0mkwargs\u001b[0m\u001b[1;33m)\u001b[0m\u001b[1;33m\u001b[0m\u001b[1;33m\u001b[0m\u001b[0m\n",
      "\u001b[1;32mc:\\python\\python39-32\\lib\\site-packages\\matplotlib\\axes\\_axes.py\u001b[0m in \u001b[0;36mhist\u001b[1;34m(self, x, bins, range, density, weights, cumulative, bottom, histtype, align, orientation, rwidth, log, color, label, stacked, **kwargs)\u001b[0m\n\u001b[0;32m   6757\u001b[0m             \u001b[1;31m# this will automatically overwrite bins,\u001b[0m\u001b[1;33m\u001b[0m\u001b[1;33m\u001b[0m\u001b[1;33m\u001b[0m\u001b[0m\n\u001b[0;32m   6758\u001b[0m             \u001b[1;31m# so that each histogram uses the same bins\u001b[0m\u001b[1;33m\u001b[0m\u001b[1;33m\u001b[0m\u001b[1;33m\u001b[0m\u001b[0m\n\u001b[1;32m-> 6759\u001b[1;33m             \u001b[0mm\u001b[0m\u001b[1;33m,\u001b[0m \u001b[0mbins\u001b[0m \u001b[1;33m=\u001b[0m \u001b[0mnp\u001b[0m\u001b[1;33m.\u001b[0m\u001b[0mhistogram\u001b[0m\u001b[1;33m(\u001b[0m\u001b[0mx\u001b[0m\u001b[1;33m[\u001b[0m\u001b[0mi\u001b[0m\u001b[1;33m]\u001b[0m\u001b[1;33m,\u001b[0m \u001b[0mbins\u001b[0m\u001b[1;33m,\u001b[0m \u001b[0mweights\u001b[0m\u001b[1;33m=\u001b[0m\u001b[0mw\u001b[0m\u001b[1;33m[\u001b[0m\u001b[0mi\u001b[0m\u001b[1;33m]\u001b[0m\u001b[1;33m,\u001b[0m \u001b[1;33m**\u001b[0m\u001b[0mhist_kwargs\u001b[0m\u001b[1;33m)\u001b[0m\u001b[1;33m\u001b[0m\u001b[1;33m\u001b[0m\u001b[0m\n\u001b[0m\u001b[0;32m   6760\u001b[0m             \u001b[0mtops\u001b[0m\u001b[1;33m.\u001b[0m\u001b[0mappend\u001b[0m\u001b[1;33m(\u001b[0m\u001b[0mm\u001b[0m\u001b[1;33m)\u001b[0m\u001b[1;33m\u001b[0m\u001b[1;33m\u001b[0m\u001b[0m\n\u001b[0;32m   6761\u001b[0m         \u001b[0mtops\u001b[0m \u001b[1;33m=\u001b[0m \u001b[0mnp\u001b[0m\u001b[1;33m.\u001b[0m\u001b[0marray\u001b[0m\u001b[1;33m(\u001b[0m\u001b[0mtops\u001b[0m\u001b[1;33m,\u001b[0m \u001b[0mfloat\u001b[0m\u001b[1;33m)\u001b[0m  \u001b[1;31m# causes problems later if it's an int\u001b[0m\u001b[1;33m\u001b[0m\u001b[1;33m\u001b[0m\u001b[0m\n",
      "\u001b[1;32m<__array_function__ internals>\u001b[0m in \u001b[0;36mhistogram\u001b[1;34m(*args, **kwargs)\u001b[0m\n",
      "\u001b[1;32mc:\\python\\python39-32\\lib\\site-packages\\numpy\\lib\\histograms.py\u001b[0m in \u001b[0;36mhistogram\u001b[1;34m(a, bins, range, normed, weights, density)\u001b[0m\n\u001b[0;32m    820\u001b[0m \u001b[1;33m\u001b[0m\u001b[0m\n\u001b[0;32m    821\u001b[0m         \u001b[1;31m# Pre-compute histogram scaling factor\u001b[0m\u001b[1;33m\u001b[0m\u001b[1;33m\u001b[0m\u001b[1;33m\u001b[0m\u001b[0m\n\u001b[1;32m--> 822\u001b[1;33m         \u001b[0mnorm\u001b[0m \u001b[1;33m=\u001b[0m \u001b[0mn_equal_bins\u001b[0m \u001b[1;33m/\u001b[0m \u001b[0m_unsigned_subtract\u001b[0m\u001b[1;33m(\u001b[0m\u001b[0mlast_edge\u001b[0m\u001b[1;33m,\u001b[0m \u001b[0mfirst_edge\u001b[0m\u001b[1;33m)\u001b[0m\u001b[1;33m\u001b[0m\u001b[1;33m\u001b[0m\u001b[0m\n\u001b[0m\u001b[0;32m    823\u001b[0m \u001b[1;33m\u001b[0m\u001b[0m\n\u001b[0;32m    824\u001b[0m         \u001b[1;31m# We iterate over blocks here for two reasons: the first is that for\u001b[0m\u001b[1;33m\u001b[0m\u001b[1;33m\u001b[0m\u001b[1;33m\u001b[0m\u001b[0m\n",
      "\u001b[1;32mc:\\python\\python39-32\\lib\\site-packages\\numpy\\lib\\histograms.py\u001b[0m in \u001b[0;36m_unsigned_subtract\u001b[1;34m(a, b)\u001b[0m\n\u001b[0;32m    351\u001b[0m         \u001b[0mdt\u001b[0m \u001b[1;33m=\u001b[0m \u001b[0msigned_to_unsigned\u001b[0m\u001b[1;33m[\u001b[0m\u001b[0mdt\u001b[0m\u001b[1;33m.\u001b[0m\u001b[0mtype\u001b[0m\u001b[1;33m]\u001b[0m\u001b[1;33m\u001b[0m\u001b[1;33m\u001b[0m\u001b[0m\n\u001b[0;32m    352\u001b[0m     \u001b[1;32mexcept\u001b[0m \u001b[0mKeyError\u001b[0m\u001b[1;33m:\u001b[0m\u001b[1;33m\u001b[0m\u001b[1;33m\u001b[0m\u001b[0m\n\u001b[1;32m--> 353\u001b[1;33m         \u001b[1;32mreturn\u001b[0m \u001b[0mnp\u001b[0m\u001b[1;33m.\u001b[0m\u001b[0msubtract\u001b[0m\u001b[1;33m(\u001b[0m\u001b[0ma\u001b[0m\u001b[1;33m,\u001b[0m \u001b[0mb\u001b[0m\u001b[1;33m,\u001b[0m \u001b[0mdtype\u001b[0m\u001b[1;33m=\u001b[0m\u001b[0mdt\u001b[0m\u001b[1;33m)\u001b[0m\u001b[1;33m\u001b[0m\u001b[1;33m\u001b[0m\u001b[0m\n\u001b[0m\u001b[0;32m    354\u001b[0m     \u001b[1;32melse\u001b[0m\u001b[1;33m:\u001b[0m\u001b[1;33m\u001b[0m\u001b[1;33m\u001b[0m\u001b[0m\n\u001b[0;32m    355\u001b[0m         \u001b[1;31m# we know the inputs are integers, and we are deliberately casting\u001b[0m\u001b[1;33m\u001b[0m\u001b[1;33m\u001b[0m\u001b[1;33m\u001b[0m\u001b[0m\n",
      "\u001b[1;31mTypeError\u001b[0m: numpy boolean subtract, the `-` operator, is not supported, use the bitwise_xor, the `^` operator, or the logical_xor function instead."
     ]
    },
    {
     "data": {
      "image/png": "[encoded data removed]",
      "text/plain": [
       "<Figure size 432x288 with 1 Axes>"
      ]
     },
     "metadata": {
      "needs_background": "light"
     },
     "output_type": "display_data"
    }
   ],
   "source": [
    "Recency2 = sheet1[\"online_order\"]\n",
    "Recency2.hist()"
   ]
  },
  {
   "cell_type": "code",
   "execution_count": 80,
   "id": "3138a0db",
   "metadata": {},
   "outputs": [
    {
     "data": {
      "text/plain": [
       "8.0     3342\n",
       "9.0     3260\n",
       "10.0    2858\n",
       "7.0     2389\n",
       "11.0    1396\n",
       "6.0     1181\n",
       "5.0     1130\n",
       "4.0     1070\n",
       "12.0     977\n",
       "3.0      903\n",
       "1.0      807\n",
       "2.0      687\n",
       "Name: property_valuation, dtype: int64"
      ]
     },
     "execution_count": 80,
     "metadata": {},
     "output_type": "execute_result"
    }
   ],
   "source": [
    "sheet1['property_valuation'].value_counts()"
   ]
  },
  {
   "cell_type": "code",
   "execution_count": 81,
   "id": "7c3eef94",
   "metadata": {},
   "outputs": [
    {
     "data": {
      "text/plain": [
       "([<matplotlib.patches.Wedge at 0x1f4f0508>,\n",
       "  <matplotlib.patches.Wedge at 0x1f4f0a00>,\n",
       "  <matplotlib.patches.Wedge at 0x1f4f0ec8>,\n",
       "  <matplotlib.patches.Wedge at 0x1f2c63b8>,\n",
       "  <matplotlib.patches.Wedge at 0x1f2c6880>,\n",
       "  <matplotlib.patches.Wedge at 0x1f2c6d48>],\n",
       " [Text(0.9370691076837356, 0.749600885421574, 'NSW'),\n",
       "  Text(-0.3293128882117348, 1.0495489610578659, 'Giant Bicycles'),\n",
       "  Text(-1.073820063647194, 0.23855915599435012, 'WeareA2B'),\n",
       "  Text(-0.7766752070118997, -0.7789580366188046, 'OHM Cycles'),\n",
       "  Text(0.18952343174359432, -1.0835501228923983, 'Trek Bicycles'),\n",
       "  Text(0.9848511486392936, -0.48996756527740115, 'Narco Bicycles')],\n",
       " [Text(0.5466236461488456, 0.43726718316258484, '21.5%'),\n",
       "  Text(-0.17962521175185533, 0.5724812514861085, '16.7%'),\n",
       "  Text(-0.5857200347166511, 0.13012317599691822, '16.6%'),\n",
       "  Text(-0.42364102200649073, -0.4248862017920752, '15.4%'),\n",
       "  Text(0.1033764173146878, -0.5910273397594898, '15.1%'),\n",
       "  Text(0.5371915356214327, -0.2672550356058551, '14.7%')])"
      ]
     },
     "execution_count": 81,
     "metadata": {},
     "output_type": "execute_result"
    },
    {
     "data": {
      "image/png": "[encoded data removed]",
      "text/plain": [
       "<Figure size 432x288 with 1 Axes>"
      ]
     },
     "metadata": {},
     "output_type": "display_data"
    }
   ],
   "source": [
    "Brand = ['NSW','Giant Bicycles','WeareA2B','OHM Cycles','Trek Bicycles','Narco Bicycles']\n",
    "No_of_Cycles = [4253,3312,3295,3043,2990,2910]\n",
    "explode = [0.1,0,0,0,0,0]\n",
    "import numpy as np\n",
    "from matplotlib import pyplot as plt\n",
    "plt.pie(No_of_Cycles,labels = Brand,explode = explode,autopct ='%1.1f%%',shadow = True)"
   ]
  },
  {
   "cell_type": "code",
   "execution_count": 82,
   "id": "90c9244b",
   "metadata": {},
   "outputs": [],
   "source": [
    "\n",
    "sheet1 = sheet1.drop(\"transaction_date\",axis =1)\n",
    "sheet1 = sheet1.drop(\"online_order\",axis =1)\n",
    "sheet1 = sheet1.drop(\"order_status\",axis =1)\n",
    "sheet1 = sheet1.drop(\"brand\",axis =1)\n",
    "sheet1 = sheet1.drop(\"product_line\",axis =1)\n",
    "sheet1 = sheet1.drop(\"product_class\",axis =1)\n",
    "sheet1 = sheet1.drop(\"product_size\",axis =1)\n",
    "sheet1 = sheet1.drop(\"Gender\",axis =1)\n",
    "sheet1 = sheet1.drop(\"product_first_sold_date\",axis =1)\n",
    "sheet1 = sheet1.drop(\"job_title\",axis =1)\n",
    "sheet1 = sheet1.drop(\"job_industry_category\",axis =1)\n",
    "sheet1 = sheet1.drop(\"wealth_segment\",axis =1)\n",
    "sheet1 = sheet1.drop(\"state\",axis =1)\n",
    "sheet1 = sheet1.drop(\"owns_car\",axis =1)\n",
    "sheet1 = sheet1.drop(\"Latest Transaction\",axis =1)\n",
    "sheet1 = sheet1.drop(\"past_3_years_bike_related_purchases\",axis =1)\n"
   ]
  },
  {
   "cell_type": "code",
   "execution_count": 83,
   "id": "2a28e191",
   "metadata": {},
   "outputs": [
    {
     "data": {
      "text/html": [
       "<div>\n",
       "<style scoped>\n",
       "    .dataframe tbody tr th:only-of-type {\n",
       "        vertical-align: middle;\n",
       "    }\n",
       "\n",
       "    .dataframe tbody tr th {\n",
       "        vertical-align: top;\n",
       "    }\n",
       "\n",
       "    .dataframe thead th {\n",
       "        text-align: right;\n",
       "    }\n",
       "</style>\n",
       "<table border=\"1\" class=\"dataframe\">\n",
       "  <thead>\n",
       "    <tr style=\"text-align: right;\">\n",
       "      <th></th>\n",
       "      <th>transaction_id</th>\n",
       "      <th>product_id</th>\n",
       "      <th>customer_id</th>\n",
       "      <th>list_price</th>\n",
       "      <th>standard_cost</th>\n",
       "      <th>Profit</th>\n",
       "      <th>tenure</th>\n",
       "      <th>postcode</th>\n",
       "      <th>property_valuation</th>\n",
       "      <th>Recency2</th>\n",
       "    </tr>\n",
       "  </thead>\n",
       "  <tbody>\n",
       "    <tr>\n",
       "      <th>0</th>\n",
       "      <td>1.0</td>\n",
       "      <td>2.0</td>\n",
       "      <td>2950.0</td>\n",
       "      <td>71.49</td>\n",
       "      <td>53.62</td>\n",
       "      <td>17.87</td>\n",
       "      <td>10.0</td>\n",
       "      <td>3064.0</td>\n",
       "      <td>6.0</td>\n",
       "      <td>308.0</td>\n",
       "    </tr>\n",
       "    <tr>\n",
       "      <th>1</th>\n",
       "      <td>2.0</td>\n",
       "      <td>3.0</td>\n",
       "      <td>3120.0</td>\n",
       "      <td>2091.47</td>\n",
       "      <td>388.92</td>\n",
       "      <td>1702.55</td>\n",
       "      <td>10.0</td>\n",
       "      <td>2196.0</td>\n",
       "      <td>5.0</td>\n",
       "      <td>223.0</td>\n",
       "    </tr>\n",
       "    <tr>\n",
       "      <th>2</th>\n",
       "      <td>3.0</td>\n",
       "      <td>37.0</td>\n",
       "      <td>402.0</td>\n",
       "      <td>1793.43</td>\n",
       "      <td>248.82</td>\n",
       "      <td>1544.61</td>\n",
       "      <td>22.0</td>\n",
       "      <td>2835.0</td>\n",
       "      <td>1.0</td>\n",
       "      <td>75.0</td>\n",
       "    </tr>\n",
       "    <tr>\n",
       "      <th>3</th>\n",
       "      <td>4.0</td>\n",
       "      <td>88.0</td>\n",
       "      <td>3135.0</td>\n",
       "      <td>1198.46</td>\n",
       "      <td>381.10</td>\n",
       "      <td>817.36</td>\n",
       "      <td>16.0</td>\n",
       "      <td>2096.0</td>\n",
       "      <td>10.0</td>\n",
       "      <td>121.0</td>\n",
       "    </tr>\n",
       "    <tr>\n",
       "      <th>4</th>\n",
       "      <td>5.0</td>\n",
       "      <td>78.0</td>\n",
       "      <td>787.0</td>\n",
       "      <td>1765.30</td>\n",
       "      <td>709.48</td>\n",
       "      <td>1055.82</td>\n",
       "      <td>2.0</td>\n",
       "      <td>2292.0</td>\n",
       "      <td>7.0</td>\n",
       "      <td>90.0</td>\n",
       "    </tr>\n",
       "    <tr>\n",
       "      <th>...</th>\n",
       "      <td>...</td>\n",
       "      <td>...</td>\n",
       "      <td>...</td>\n",
       "      <td>...</td>\n",
       "      <td>...</td>\n",
       "      <td>...</td>\n",
       "      <td>...</td>\n",
       "      <td>...</td>\n",
       "      <td>...</td>\n",
       "      <td>...</td>\n",
       "    </tr>\n",
       "    <tr>\n",
       "      <th>19995</th>\n",
       "      <td>19996.0</td>\n",
       "      <td>51.0</td>\n",
       "      <td>1018.0</td>\n",
       "      <td>2005.66</td>\n",
       "      <td>1203.40</td>\n",
       "      <td>802.26</td>\n",
       "      <td>7.0</td>\n",
       "      <td>3109.0</td>\n",
       "      <td>10.0</td>\n",
       "      <td>189.0</td>\n",
       "    </tr>\n",
       "    <tr>\n",
       "      <th>19996</th>\n",
       "      <td>19997.0</td>\n",
       "      <td>41.0</td>\n",
       "      <td>127.0</td>\n",
       "      <td>416.98</td>\n",
       "      <td>312.74</td>\n",
       "      <td>104.24</td>\n",
       "      <td>19.0</td>\n",
       "      <td>4405.0</td>\n",
       "      <td>1.0</td>\n",
       "      <td>51.0</td>\n",
       "    </tr>\n",
       "    <tr>\n",
       "      <th>19997</th>\n",
       "      <td>19998.0</td>\n",
       "      <td>87.0</td>\n",
       "      <td>2284.0</td>\n",
       "      <td>1636.90</td>\n",
       "      <td>44.71</td>\n",
       "      <td>1592.19</td>\n",
       "      <td>14.0</td>\n",
       "      <td>3630.0</td>\n",
       "      <td>1.0</td>\n",
       "      <td>260.0</td>\n",
       "    </tr>\n",
       "    <tr>\n",
       "      <th>19998</th>\n",
       "      <td>19999.0</td>\n",
       "      <td>6.0</td>\n",
       "      <td>2764.0</td>\n",
       "      <td>227.88</td>\n",
       "      <td>136.73</td>\n",
       "      <td>91.15</td>\n",
       "      <td>20.0</td>\n",
       "      <td>4301.0</td>\n",
       "      <td>1.0</td>\n",
       "      <td>180.0</td>\n",
       "    </tr>\n",
       "    <tr>\n",
       "      <th>19999</th>\n",
       "      <td>20000.0</td>\n",
       "      <td>11.0</td>\n",
       "      <td>1144.0</td>\n",
       "      <td>1775.81</td>\n",
       "      <td>1580.47</td>\n",
       "      <td>195.34</td>\n",
       "      <td>5.0</td>\n",
       "      <td>2177.0</td>\n",
       "      <td>9.0</td>\n",
       "      <td>99.0</td>\n",
       "    </tr>\n",
       "  </tbody>\n",
       "</table>\n",
       "<p>20000 rows × 10 columns</p>\n",
       "</div>"
      ],
      "text/plain": [
       "       transaction_id  product_id  customer_id  list_price  standard_cost  \\\n",
       "0                 1.0         2.0       2950.0       71.49          53.62   \n",
       "1                 2.0         3.0       3120.0     2091.47         388.92   \n",
       "2                 3.0        37.0        402.0     1793.43         248.82   \n",
       "3                 4.0        88.0       3135.0     1198.46         381.10   \n",
       "4                 5.0        78.0        787.0     1765.30         709.48   \n",
       "...               ...         ...          ...         ...            ...   \n",
       "19995         19996.0        51.0       1018.0     2005.66        1203.40   \n",
       "19996         19997.0        41.0        127.0      416.98         312.74   \n",
       "19997         19998.0        87.0       2284.0     1636.90          44.71   \n",
       "19998         19999.0         6.0       2764.0      227.88         136.73   \n",
       "19999         20000.0        11.0       1144.0     1775.81        1580.47   \n",
       "\n",
       "        Profit  tenure  postcode  property_valuation  Recency2  \n",
       "0        17.87    10.0    3064.0                 6.0     308.0  \n",
       "1      1702.55    10.0    2196.0                 5.0     223.0  \n",
       "2      1544.61    22.0    2835.0                 1.0      75.0  \n",
       "3       817.36    16.0    2096.0                10.0     121.0  \n",
       "4      1055.82     2.0    2292.0                 7.0      90.0  \n",
       "...        ...     ...       ...                 ...       ...  \n",
       "19995   802.26     7.0    3109.0                10.0     189.0  \n",
       "19996   104.24    19.0    4405.0                 1.0      51.0  \n",
       "19997  1592.19    14.0    3630.0                 1.0     260.0  \n",
       "19998    91.15    20.0    4301.0                 1.0     180.0  \n",
       "19999   195.34     5.0    2177.0                 9.0      99.0  \n",
       "\n",
       "[20000 rows x 10 columns]"
      ]
     },
     "execution_count": 83,
     "metadata": {},
     "output_type": "execute_result"
    }
   ],
   "source": [
    "sheet1"
   ]
  },
  {
   "cell_type": "code",
   "execution_count": 84,
   "id": "c60bbcd6",
   "metadata": {},
   "outputs": [
    {
     "name": "stdout",
     "output_type": "stream",
     "text": [
      "False    19803\n",
      "True       197\n",
      "Name: standard_cost, dtype: int64\n",
      "False    20000\n",
      "Name: standard_cost, dtype: int64\n",
      "388.92     468\n",
      "954.82     398\n",
      "53.62      275\n",
      "161.60     239\n",
      "260.14     237\n",
      "          ... \n",
      "1043.77    157\n",
      "215.03     144\n",
      "151.96     127\n",
      "770.89     126\n",
      "206.35     115\n",
      "Name: standard_cost, Length: 100, dtype: int64\n"
     ]
    }
   ],
   "source": [
    "print(sheet1['standard_cost'].isnull().value_counts())\n",
    "sheet1['standard_cost'] = sheet1['standard_cost'].replace(np.nan, ) \n",
    "print(sheet1['standard_cost'].isnull().value_counts())\n",
    "print(sheet1['standard_cost'].value_counts())"
   ]
  },
  {
   "cell_type": "code",
   "execution_count": 85,
   "id": "cbfb9394",
   "metadata": {},
   "outputs": [
    {
     "name": "stdout",
     "output_type": "stream",
     "text": [
      "The Distance Matrix \n",
      "\n"
     ]
    }
   ],
   "source": [
    "# Euclidean Distance Caculator\n",
    "def distance_matrix(data_frame):\n",
    "    import numpy as np\n",
    "    result_distance=np.zeros((data_frame.shape[0],data_frame.shape[0]))\n",
    "    for i in range(0 , data_frame.shape[0]):\n",
    "        for j in range(0 , data_frame.shape[0]):\n",
    "            result_distance[i,j]=round(math.sqrt(sum((data_frame.iloc[i] - data_frame.iloc[j])**2)),1)\n",
    "    result_distance_df=pd.DataFrame(result_distance)\n",
    "    print(result_distance_df)\n",
    "\n",
    "print(\"The Distance Matrix \\n\")\n"
   ]
  },
  {
   "cell_type": "code",
   "execution_count": 86,
   "id": "a5f7c90b",
   "metadata": {},
   "outputs": [],
   "source": [
    "#Building Clusters here\n",
    "from sklearn.cluster import KMeans\n",
    "kmeans_model = KMeans(n_clusters=15,  random_state=333) # Mention the Number of clusters\n",
    "X=sheet1.drop([\"transaction_id\"],axis=1) # Custid is not needed\n",
    "kmeans_result = kmeans_model.fit(X) #Model building"
   ]
  },
  {
   "cell_type": "code",
   "execution_count": 87,
   "id": "6a733183",
   "metadata": {},
   "outputs": [
    {
     "data": {
      "text/html": [
       "<div>\n",
       "<style scoped>\n",
       "    .dataframe tbody tr th:only-of-type {\n",
       "        vertical-align: middle;\n",
       "    }\n",
       "\n",
       "    .dataframe tbody tr th {\n",
       "        vertical-align: top;\n",
       "    }\n",
       "\n",
       "    .dataframe thead th {\n",
       "        text-align: right;\n",
       "    }\n",
       "</style>\n",
       "<table border=\"1\" class=\"dataframe\">\n",
       "  <thead>\n",
       "    <tr style=\"text-align: right;\">\n",
       "      <th></th>\n",
       "      <th>transaction_id</th>\n",
       "      <th>product_id</th>\n",
       "      <th>customer_id</th>\n",
       "      <th>list_price</th>\n",
       "      <th>standard_cost</th>\n",
       "      <th>Profit</th>\n",
       "      <th>tenure</th>\n",
       "      <th>postcode</th>\n",
       "      <th>property_valuation</th>\n",
       "      <th>Recency2</th>\n",
       "      <th>Cluster_id</th>\n",
       "    </tr>\n",
       "  </thead>\n",
       "  <tbody>\n",
       "    <tr>\n",
       "      <th>0</th>\n",
       "      <td>1.0</td>\n",
       "      <td>2.0</td>\n",
       "      <td>2950.0</td>\n",
       "      <td>71.49</td>\n",
       "      <td>53.62</td>\n",
       "      <td>17.87</td>\n",
       "      <td>10.0</td>\n",
       "      <td>3064.0</td>\n",
       "      <td>6.0</td>\n",
       "      <td>308.0</td>\n",
       "      <td>0</td>\n",
       "    </tr>\n",
       "    <tr>\n",
       "      <th>1</th>\n",
       "      <td>2.0</td>\n",
       "      <td>3.0</td>\n",
       "      <td>3120.0</td>\n",
       "      <td>2091.47</td>\n",
       "      <td>388.92</td>\n",
       "      <td>1702.55</td>\n",
       "      <td>10.0</td>\n",
       "      <td>2196.0</td>\n",
       "      <td>5.0</td>\n",
       "      <td>223.0</td>\n",
       "      <td>3</td>\n",
       "    </tr>\n",
       "    <tr>\n",
       "      <th>2</th>\n",
       "      <td>3.0</td>\n",
       "      <td>37.0</td>\n",
       "      <td>402.0</td>\n",
       "      <td>1793.43</td>\n",
       "      <td>248.82</td>\n",
       "      <td>1544.61</td>\n",
       "      <td>22.0</td>\n",
       "      <td>2835.0</td>\n",
       "      <td>1.0</td>\n",
       "      <td>75.0</td>\n",
       "      <td>2</td>\n",
       "    </tr>\n",
       "    <tr>\n",
       "      <th>3</th>\n",
       "      <td>4.0</td>\n",
       "      <td>88.0</td>\n",
       "      <td>3135.0</td>\n",
       "      <td>1198.46</td>\n",
       "      <td>381.10</td>\n",
       "      <td>817.36</td>\n",
       "      <td>16.0</td>\n",
       "      <td>2096.0</td>\n",
       "      <td>10.0</td>\n",
       "      <td>121.0</td>\n",
       "      <td>3</td>\n",
       "    </tr>\n",
       "    <tr>\n",
       "      <th>4</th>\n",
       "      <td>5.0</td>\n",
       "      <td>78.0</td>\n",
       "      <td>787.0</td>\n",
       "      <td>1765.30</td>\n",
       "      <td>709.48</td>\n",
       "      <td>1055.82</td>\n",
       "      <td>2.0</td>\n",
       "      <td>2292.0</td>\n",
       "      <td>7.0</td>\n",
       "      <td>90.0</td>\n",
       "      <td>2</td>\n",
       "    </tr>\n",
       "  </tbody>\n",
       "</table>\n",
       "</div>"
      ],
      "text/plain": [
       "   transaction_id  product_id  customer_id  list_price  standard_cost  \\\n",
       "0             1.0         2.0       2950.0       71.49          53.62   \n",
       "1             2.0         3.0       3120.0     2091.47         388.92   \n",
       "2             3.0        37.0        402.0     1793.43         248.82   \n",
       "3             4.0        88.0       3135.0     1198.46         381.10   \n",
       "4             5.0        78.0        787.0     1765.30         709.48   \n",
       "\n",
       "    Profit  tenure  postcode  property_valuation  Recency2  Cluster_id  \n",
       "0    17.87    10.0    3064.0                 6.0     308.0           0  \n",
       "1  1702.55    10.0    2196.0                 5.0     223.0           3  \n",
       "2  1544.61    22.0    2835.0                 1.0      75.0           2  \n",
       "3   817.36    16.0    2096.0                10.0     121.0           3  \n",
       "4  1055.82     2.0    2292.0                 7.0      90.0           2  "
      ]
     },
     "execution_count": 87,
     "metadata": {},
     "output_type": "execute_result"
    }
   ],
   "source": [
    "# Getting the cluster labels and attaching them to the original data\n",
    "labels = kmeans_result.predict(X)\n",
    "sheet1[\"Cluster_id\"]=labels\n",
    "sheet1.head()"
   ]
  },
  {
   "cell_type": "code",
   "execution_count": 88,
   "id": "06375935",
   "metadata": {},
   "outputs": [
    {
     "name": "stdout",
     "output_type": "stream",
     "text": [
      "cluster_counts \n",
      "             transaction_id  product_id  customer_id  list_price  \\\n",
      "Cluster_id                                                        \n",
      "0                     1922        1922         1922        1922   \n",
      "1                     1020        1020         1020        1020   \n",
      "2                     1346        1346         1346        1346   \n",
      "3                     1337        1337         1337        1337   \n",
      "4                     1794        1794         1794        1794   \n",
      "5                      722         722          722         722   \n",
      "6                     1974        1974         1974        1974   \n",
      "7                     1765        1765         1765        1765   \n",
      "8                      933         933          933         933   \n",
      "9                      998         998          998         998   \n",
      "10                    1537        1537         1537        1537   \n",
      "11                    1554        1554         1554        1554   \n",
      "12                     682         682          682         682   \n",
      "13                    1256        1256         1256        1256   \n",
      "14                    1160        1160         1160        1160   \n",
      "\n",
      "            standard_cost  Profit  tenure  postcode  property_valuation  \\\n",
      "Cluster_id                                                                \n",
      "0                    1922    1922    1922      1922                1922   \n",
      "1                    1020    1020    1020      1020                1020   \n",
      "2                    1346    1346    1346      1346                1346   \n",
      "3                    1337    1337    1337      1337                1337   \n",
      "4                    1794    1794    1794      1794                1794   \n",
      "5                     722     722     722       722                 722   \n",
      "6                    1974    1974    1974      1974                1974   \n",
      "7                    1765    1765    1765      1765                1765   \n",
      "8                     933     933     933       933                 933   \n",
      "9                     998     998     998       998                 998   \n",
      "10                   1537    1537    1537      1537                1537   \n",
      "11                   1554    1554    1554      1554                1554   \n",
      "12                    682     682     682       682                 682   \n",
      "13                   1256    1256    1256      1256                1256   \n",
      "14                   1160    1160    1160      1160                1160   \n",
      "\n",
      "            Recency2  \n",
      "Cluster_id            \n",
      "0               1922  \n",
      "1               1020  \n",
      "2               1346  \n",
      "3               1337  \n",
      "4               1794  \n",
      "5                722  \n",
      "6               1974  \n",
      "7               1765  \n",
      "8                933  \n",
      "9                998  \n",
      "10              1537  \n",
      "11              1554  \n",
      "12               682  \n",
      "13              1256  \n",
      "14              1160  \n"
     ]
    }
   ],
   "source": [
    "#Final Results\n",
    "cluster_counts=sheet1.groupby(['Cluster_id']).count()\n",
    "pd.set_option('display.max_columns', None) #This option displays all the columns \n",
    "print(\"cluster_counts \\n\", cluster_counts)"
   ]
  },
  {
   "cell_type": "code",
   "execution_count": 89,
   "id": "d52b7e1b",
   "metadata": {},
   "outputs": [
    {
     "name": "stdout",
     "output_type": "stream",
     "text": [
      "cluster_means \n",
      "             transaction_id  product_id  customer_id   list_price  \\\n",
      "Cluster_id                                                         \n",
      "0             10195.614464   42.287201  2913.158169   483.323371   \n",
      "1              9924.464706   41.236275   777.078431   525.589725   \n",
      "2              9938.856612   48.747400   564.764487  1625.920461   \n",
      "3              9770.876589   48.562453  2899.632760  1632.087644   \n",
      "4              9985.563545   41.658863  1722.659420   504.339955   \n",
      "5             10023.193906   48.317175  2480.817175  1673.654529   \n",
      "6              9915.347518   42.366768   572.104357   473.068050   \n",
      "7              9871.816431   45.005099   599.609065  1399.362453   \n",
      "8              9929.631297   48.142551  2779.780279  1410.659057   \n",
      "9             10066.344689   48.759519  1084.323647  1431.309739   \n",
      "10            10149.072869   46.244632  1811.270657  1405.924912   \n",
      "11            10006.388031   45.768983  2928.048263  1407.881068   \n",
      "12            10029.969208   48.885630   772.356305  1630.534296   \n",
      "13            10145.039013   49.917994  1762.430732  1617.621752   \n",
      "14            10051.719828   42.162069  2514.503448   488.768284   \n",
      "\n",
      "            standard_cost       Profit     tenure     postcode  \\\n",
      "Cluster_id                                                       \n",
      "0              298.347159   189.375983  10.207596  2550.196670   \n",
      "1              318.028696   210.870961  10.945098  4203.294118   \n",
      "2              380.506530  1254.263514  10.343239  2513.850669   \n",
      "3              390.226604  1249.382909  10.252805  2559.994016   \n",
      "4              306.176734   204.513579  10.552397  2504.542363   \n",
      "5              384.851814  1299.502950  10.260388  4211.041551   \n",
      "6              297.879453   179.789276  10.503546  2494.051672   \n",
      "7              981.084232   422.497105  10.215297  2521.516147   \n",
      "8              928.800171   484.246892  10.235798  4207.132905   \n",
      "9              998.563277   432.746463  10.418838  4195.256513   \n",
      "10            1000.841711   411.038276  10.719584  2524.746259   \n",
      "11             988.973526   421.663411  10.215573  2542.467181   \n",
      "12             393.635601  1245.454326  11.067449  4183.413490   \n",
      "13             377.178575  1247.998304  10.570064  2510.569268   \n",
      "14             307.998371   184.576569  10.570690  4207.126724   \n",
      "\n",
      "            property_valuation    Recency2  \n",
      "Cluster_id                                  \n",
      "0                     8.375130  182.635276  \n",
      "1                     5.480392  181.406863  \n",
      "2                     8.299406  183.518574  \n",
      "3                     8.272251  181.271503  \n",
      "4                     8.175028  183.341695  \n",
      "5                     5.380886  175.779778  \n",
      "6                     8.452381  179.595238  \n",
      "7                     8.363173  184.785269  \n",
      "8                     5.603430  183.279743  \n",
      "9                     5.348697  184.518036  \n",
      "10                    8.184776  180.366949  \n",
      "11                    8.335907  180.139640  \n",
      "12                    5.426686  181.972141  \n",
      "13                    8.261943  178.280255  \n",
      "14                    5.406897  177.547414  \n"
     ]
    }
   ],
   "source": [
    "pd.set_option('display.max_columns', None) #This option displays all the columns \n",
    "cluster_means=sheet1.groupby(['Cluster_id']).mean()\n",
    "print(\"cluster_means \\n\", cluster_means)"
   ]
  },
  {
   "cell_type": "code",
   "execution_count": 100,
   "id": "1a9b5547",
   "metadata": {
    "scrolled": true
   },
   "outputs": [
    {
     "data": {
      "text/html": [
       "<div>\n",
       "<style scoped>\n",
       "    .dataframe tbody tr th:only-of-type {\n",
       "        vertical-align: middle;\n",
       "    }\n",
       "\n",
       "    .dataframe tbody tr th {\n",
       "        vertical-align: top;\n",
       "    }\n",
       "\n",
       "    .dataframe thead th {\n",
       "        text-align: right;\n",
       "    }\n",
       "</style>\n",
       "<table border=\"1\" class=\"dataframe\">\n",
       "  <thead>\n",
       "    <tr style=\"text-align: right;\">\n",
       "      <th></th>\n",
       "      <th>transaction_id</th>\n",
       "      <th>product_id</th>\n",
       "      <th>customer_id</th>\n",
       "      <th>list_price</th>\n",
       "      <th>standard_cost</th>\n",
       "      <th>Profit</th>\n",
       "      <th>tenure</th>\n",
       "      <th>postcode</th>\n",
       "      <th>property_valuation</th>\n",
       "      <th>Recency2</th>\n",
       "    </tr>\n",
       "    <tr>\n",
       "      <th>Cluster_id</th>\n",
       "      <th></th>\n",
       "      <th></th>\n",
       "      <th></th>\n",
       "      <th></th>\n",
       "      <th></th>\n",
       "      <th></th>\n",
       "      <th></th>\n",
       "      <th></th>\n",
       "      <th></th>\n",
       "      <th></th>\n",
       "    </tr>\n",
       "  </thead>\n",
       "  <tbody>\n",
       "    <tr>\n",
       "      <th>0</th>\n",
       "      <td>10195.614464</td>\n",
       "      <td>42.287201</td>\n",
       "      <td>2913.158169</td>\n",
       "      <td>483.323371</td>\n",
       "      <td>298.347159</td>\n",
       "      <td>189.375983</td>\n",
       "      <td>10.207596</td>\n",
       "      <td>2550.196670</td>\n",
       "      <td>8.375130</td>\n",
       "      <td>182.635276</td>\n",
       "    </tr>\n",
       "    <tr>\n",
       "      <th>1</th>\n",
       "      <td>9924.464706</td>\n",
       "      <td>41.236275</td>\n",
       "      <td>777.078431</td>\n",
       "      <td>525.589725</td>\n",
       "      <td>318.028696</td>\n",
       "      <td>210.870961</td>\n",
       "      <td>10.945098</td>\n",
       "      <td>4203.294118</td>\n",
       "      <td>5.480392</td>\n",
       "      <td>181.406863</td>\n",
       "    </tr>\n",
       "    <tr>\n",
       "      <th>2</th>\n",
       "      <td>9938.856612</td>\n",
       "      <td>48.747400</td>\n",
       "      <td>564.764487</td>\n",
       "      <td>1625.920461</td>\n",
       "      <td>380.506530</td>\n",
       "      <td>1254.263514</td>\n",
       "      <td>10.343239</td>\n",
       "      <td>2513.850669</td>\n",
       "      <td>8.299406</td>\n",
       "      <td>183.518574</td>\n",
       "    </tr>\n",
       "    <tr>\n",
       "      <th>3</th>\n",
       "      <td>9770.876589</td>\n",
       "      <td>48.562453</td>\n",
       "      <td>2899.632760</td>\n",
       "      <td>1632.087644</td>\n",
       "      <td>390.226604</td>\n",
       "      <td>1249.382909</td>\n",
       "      <td>10.252805</td>\n",
       "      <td>2559.994016</td>\n",
       "      <td>8.272251</td>\n",
       "      <td>181.271503</td>\n",
       "    </tr>\n",
       "    <tr>\n",
       "      <th>4</th>\n",
       "      <td>9985.563545</td>\n",
       "      <td>41.658863</td>\n",
       "      <td>1722.659420</td>\n",
       "      <td>504.339955</td>\n",
       "      <td>306.176734</td>\n",
       "      <td>204.513579</td>\n",
       "      <td>10.552397</td>\n",
       "      <td>2504.542363</td>\n",
       "      <td>8.175028</td>\n",
       "      <td>183.341695</td>\n",
       "    </tr>\n",
       "    <tr>\n",
       "      <th>5</th>\n",
       "      <td>10023.193906</td>\n",
       "      <td>48.317175</td>\n",
       "      <td>2480.817175</td>\n",
       "      <td>1673.654529</td>\n",
       "      <td>384.851814</td>\n",
       "      <td>1299.502950</td>\n",
       "      <td>10.260388</td>\n",
       "      <td>4211.041551</td>\n",
       "      <td>5.380886</td>\n",
       "      <td>175.779778</td>\n",
       "    </tr>\n",
       "    <tr>\n",
       "      <th>6</th>\n",
       "      <td>9915.347518</td>\n",
       "      <td>42.366768</td>\n",
       "      <td>572.104357</td>\n",
       "      <td>473.068050</td>\n",
       "      <td>297.879453</td>\n",
       "      <td>179.789276</td>\n",
       "      <td>10.503546</td>\n",
       "      <td>2494.051672</td>\n",
       "      <td>8.452381</td>\n",
       "      <td>179.595238</td>\n",
       "    </tr>\n",
       "    <tr>\n",
       "      <th>7</th>\n",
       "      <td>9871.816431</td>\n",
       "      <td>45.005099</td>\n",
       "      <td>599.609065</td>\n",
       "      <td>1399.362453</td>\n",
       "      <td>981.084232</td>\n",
       "      <td>422.497105</td>\n",
       "      <td>10.215297</td>\n",
       "      <td>2521.516147</td>\n",
       "      <td>8.363173</td>\n",
       "      <td>184.785269</td>\n",
       "    </tr>\n",
       "    <tr>\n",
       "      <th>8</th>\n",
       "      <td>9929.631297</td>\n",
       "      <td>48.142551</td>\n",
       "      <td>2779.780279</td>\n",
       "      <td>1410.659057</td>\n",
       "      <td>928.800171</td>\n",
       "      <td>484.246892</td>\n",
       "      <td>10.235798</td>\n",
       "      <td>4207.132905</td>\n",
       "      <td>5.603430</td>\n",
       "      <td>183.279743</td>\n",
       "    </tr>\n",
       "    <tr>\n",
       "      <th>9</th>\n",
       "      <td>10066.344689</td>\n",
       "      <td>48.759519</td>\n",
       "      <td>1084.323647</td>\n",
       "      <td>1431.309739</td>\n",
       "      <td>998.563277</td>\n",
       "      <td>432.746463</td>\n",
       "      <td>10.418838</td>\n",
       "      <td>4195.256513</td>\n",
       "      <td>5.348697</td>\n",
       "      <td>184.518036</td>\n",
       "    </tr>\n",
       "  </tbody>\n",
       "</table>\n",
       "</div>"
      ],
      "text/plain": [
       "            transaction_id  product_id  customer_id   list_price  \\\n",
       "Cluster_id                                                         \n",
       "0             10195.614464   42.287201  2913.158169   483.323371   \n",
       "1              9924.464706   41.236275   777.078431   525.589725   \n",
       "2              9938.856612   48.747400   564.764487  1625.920461   \n",
       "3              9770.876589   48.562453  2899.632760  1632.087644   \n",
       "4              9985.563545   41.658863  1722.659420   504.339955   \n",
       "5             10023.193906   48.317175  2480.817175  1673.654529   \n",
       "6              9915.347518   42.366768   572.104357   473.068050   \n",
       "7              9871.816431   45.005099   599.609065  1399.362453   \n",
       "8              9929.631297   48.142551  2779.780279  1410.659057   \n",
       "9             10066.344689   48.759519  1084.323647  1431.309739   \n",
       "\n",
       "            standard_cost       Profit     tenure     postcode  \\\n",
       "Cluster_id                                                       \n",
       "0              298.347159   189.375983  10.207596  2550.196670   \n",
       "1              318.028696   210.870961  10.945098  4203.294118   \n",
       "2              380.506530  1254.263514  10.343239  2513.850669   \n",
       "3              390.226604  1249.382909  10.252805  2559.994016   \n",
       "4              306.176734   204.513579  10.552397  2504.542363   \n",
       "5              384.851814  1299.502950  10.260388  4211.041551   \n",
       "6              297.879453   179.789276  10.503546  2494.051672   \n",
       "7              981.084232   422.497105  10.215297  2521.516147   \n",
       "8              928.800171   484.246892  10.235798  4207.132905   \n",
       "9              998.563277   432.746463  10.418838  4195.256513   \n",
       "\n",
       "            property_valuation    Recency2  \n",
       "Cluster_id                                  \n",
       "0                     8.375130  182.635276  \n",
       "1                     5.480392  181.406863  \n",
       "2                     8.299406  183.518574  \n",
       "3                     8.272251  181.271503  \n",
       "4                     8.175028  183.341695  \n",
       "5                     5.380886  175.779778  \n",
       "6                     8.452381  179.595238  \n",
       "7                     8.363173  184.785269  \n",
       "8                     5.603430  183.279743  \n",
       "9                     5.348697  184.518036  "
      ]
     },
     "execution_count": 100,
     "metadata": {},
     "output_type": "execute_result"
    }
   ],
   "source": [
    "cluster_means=sheet1.groupby(['Cluster_id']).mean()\n",
    "C=cluster_means\n",
    "C.head(10)"
   ]
  },
  {
   "cell_type": "code",
   "execution_count": 91,
   "id": "03b510df",
   "metadata": {
    "scrolled": false
   },
   "outputs": [],
   "source": [
    "\n",
    "#The Final Target population\n",
    "target_data=sheet1[sheet1[\"Cluster_id\"]==1]"
   ]
  },
  {
   "cell_type": "code",
   "execution_count": null,
   "id": "ea7a7797",
   "metadata": {},
   "outputs": [],
   "source": [
    "T = list(target_data.customer_id)\n",
    "T"
   ]
  }
 ],
 "metadata": {
  "kernelspec": {
   "display_name": "Python 3",
   "language": "python",
   "name": "python3"
  },
  "language_info": {
   "codemirror_mode": {
    "name": "ipython",
    "version": 3
   },
   "file_extension": ".py",
   "mimetype": "text/x-python",
   "name": "python",
   "nbconvert_exporter": "python",
   "pygments_lexer": "ipython3",
   "version": "3.9.2"
  }
 },
 "nbformat": 4,
 "nbformat_minor": 5
}
