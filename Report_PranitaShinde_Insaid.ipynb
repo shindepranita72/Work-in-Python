{
  "nbformat": 4,
  "nbformat_minor": 0,
  "metadata": {
    "colab": {
      "name": "Report_PranitaShinde_Insaid.ipynb",
      "provenance": [],
      "collapsed_sections": []
    },
    "kernelspec": {
      "name": "python3",
      "display_name": "Python 3"
    },
    "language_info": {
      "name": "python"
    }
  },
  "cells": [
    {
      "cell_type": "code",
      "metadata": {
        "id": "JY0lhvFujJ4d",
        "colab": {
          "base_uri": "https://localhost:8080/",
          "height": 200
        },
        "outputId": "602df8c3-d2d6-40f1-e04a-1b43c210ea8e"
      },
      "source": [
        "#import all required libraries \n",
        "import pandas as pd\n",
        "import numpy as np\n",
        "insaid = pd.read_csv(\"/content/drive/MyDrive/Internships/INSAID_AUGUST/Fraud.csv\")\n",
        "insaid.head()\n"
      ],
      "execution_count": 1,
      "outputs": [
        {
          "output_type": "execute_result",
          "data": {
            "text/html": [
              "<div>\n",
              "<style scoped>\n",
              "    .dataframe tbody tr th:only-of-type {\n",
              "        vertical-align: middle;\n",
              "    }\n",
              "\n",
              "    .dataframe tbody tr th {\n",
              "        vertical-align: top;\n",
              "    }\n",
              "\n",
              "    .dataframe thead th {\n",
              "        text-align: right;\n",
              "    }\n",
              "</style>\n",
              "<table border=\"1\" class=\"dataframe\">\n",
              "  <thead>\n",
              "    <tr style=\"text-align: right;\">\n",
              "      <th></th>\n",
              "      <th>step</th>\n",
              "      <th>type</th>\n",
              "      <th>amount</th>\n",
              "      <th>nameOrig</th>\n",
              "      <th>oldbalanceOrg</th>\n",
              "      <th>newbalanceOrig</th>\n",
              "      <th>nameDest</th>\n",
              "      <th>oldbalanceDest</th>\n",
              "      <th>newbalanceDest</th>\n",
              "      <th>isFraud</th>\n",
              "      <th>isFlaggedFraud</th>\n",
              "    </tr>\n",
              "  </thead>\n",
              "  <tbody>\n",
              "    <tr>\n",
              "      <th>0</th>\n",
              "      <td>1</td>\n",
              "      <td>PAYMENT</td>\n",
              "      <td>9839.64</td>\n",
              "      <td>C1231006815</td>\n",
              "      <td>170136.0</td>\n",
              "      <td>160296.36</td>\n",
              "      <td>M1979787155</td>\n",
              "      <td>0.0</td>\n",
              "      <td>0.0</td>\n",
              "      <td>0</td>\n",
              "      <td>0</td>\n",
              "    </tr>\n",
              "    <tr>\n",
              "      <th>1</th>\n",
              "      <td>1</td>\n",
              "      <td>PAYMENT</td>\n",
              "      <td>1864.28</td>\n",
              "      <td>C1666544295</td>\n",
              "      <td>21249.0</td>\n",
              "      <td>19384.72</td>\n",
              "      <td>M2044282225</td>\n",
              "      <td>0.0</td>\n",
              "      <td>0.0</td>\n",
              "      <td>0</td>\n",
              "      <td>0</td>\n",
              "    </tr>\n",
              "    <tr>\n",
              "      <th>2</th>\n",
              "      <td>1</td>\n",
              "      <td>TRANSFER</td>\n",
              "      <td>181.00</td>\n",
              "      <td>C1305486145</td>\n",
              "      <td>181.0</td>\n",
              "      <td>0.00</td>\n",
              "      <td>C553264065</td>\n",
              "      <td>0.0</td>\n",
              "      <td>0.0</td>\n",
              "      <td>1</td>\n",
              "      <td>0</td>\n",
              "    </tr>\n",
              "    <tr>\n",
              "      <th>3</th>\n",
              "      <td>1</td>\n",
              "      <td>CASH_OUT</td>\n",
              "      <td>181.00</td>\n",
              "      <td>C840083671</td>\n",
              "      <td>181.0</td>\n",
              "      <td>0.00</td>\n",
              "      <td>C38997010</td>\n",
              "      <td>21182.0</td>\n",
              "      <td>0.0</td>\n",
              "      <td>1</td>\n",
              "      <td>0</td>\n",
              "    </tr>\n",
              "    <tr>\n",
              "      <th>4</th>\n",
              "      <td>1</td>\n",
              "      <td>PAYMENT</td>\n",
              "      <td>11668.14</td>\n",
              "      <td>C2048537720</td>\n",
              "      <td>41554.0</td>\n",
              "      <td>29885.86</td>\n",
              "      <td>M1230701703</td>\n",
              "      <td>0.0</td>\n",
              "      <td>0.0</td>\n",
              "      <td>0</td>\n",
              "      <td>0</td>\n",
              "    </tr>\n",
              "  </tbody>\n",
              "</table>\n",
              "</div>"
            ],
            "text/plain": [
              "   step      type    amount  ... newbalanceDest  isFraud  isFlaggedFraud\n",
              "0     1   PAYMENT   9839.64  ...            0.0        0               0\n",
              "1     1   PAYMENT   1864.28  ...            0.0        0               0\n",
              "2     1  TRANSFER    181.00  ...            0.0        1               0\n",
              "3     1  CASH_OUT    181.00  ...            0.0        1               0\n",
              "4     1   PAYMENT  11668.14  ...            0.0        0               0\n",
              "\n",
              "[5 rows x 11 columns]"
            ]
          },
          "metadata": {},
          "execution_count": 1
        }
      ]
    },
    {
      "cell_type": "markdown",
      "metadata": {
        "id": "_saaB1u_kHrH"
      },
      "source": [
        "# **Task1:** Data cleaning including null values, outliers and multicollinearilty\n",
        "\n",
        "## Null values"
      ]
    },
    {
      "cell_type": "code",
      "metadata": {
        "colab": {
          "base_uri": "https://localhost:8080/"
        },
        "id": "E3A-CbXUj7U_",
        "outputId": "15ab15f8-c7fc-42c9-adab-a7d61e9bb6f2"
      },
      "source": [
        "insaid.isnull().sum()"
      ],
      "execution_count": 2,
      "outputs": [
        {
          "output_type": "execute_result",
          "data": {
            "text/plain": [
              "step              0\n",
              "type              0\n",
              "amount            0\n",
              "nameOrig          0\n",
              "oldbalanceOrg     0\n",
              "newbalanceOrig    0\n",
              "nameDest          0\n",
              "oldbalanceDest    0\n",
              "newbalanceDest    0\n",
              "isFraud           0\n",
              "isFlaggedFraud    0\n",
              "dtype: int64"
            ]
          },
          "metadata": {},
          "execution_count": 2
        }
      ]
    },
    {
      "cell_type": "markdown",
      "metadata": {
        "id": "iW2p0JbJkfvW"
      },
      "source": [
        "There are no null values in any of the columns in data set."
      ]
    },
    {
      "cell_type": "markdown",
      "metadata": {
        "id": "jPHmUjDJji-z"
      },
      "source": [
        "## Outliers"
      ]
    },
    {
      "cell_type": "code",
      "metadata": {
        "id": "XEVXSE4UkgPL"
      },
      "source": [
        "insaid_numeric_dataset = insaid.select_dtypes(include = [np.number]) \n",
        "insaid_numeric_col = insaid_numeric_dataset.columns.values\n",
        "for col in insaid_numeric_col:\n",
        "        missing = insaid[col].isnull()\n",
        "        no_of_missing = np.sum(missing)\n",
        "        if no_of_missing > 0:\n",
        "            medn =insaid[col].median()\n",
        "            insaid[col] =insaid[col].fillna(medn)\n",
        "            "
      ],
      "execution_count": 3,
      "outputs": []
    },
    {
      "cell_type": "code",
      "metadata": {
        "colab": {
          "base_uri": "https://localhost:8080/"
        },
        "id": "sEhUPmpIcK_5",
        "outputId": "1e4033c4-c391-4511-f716-2eaf74858d49"
      },
      "source": [
        "### step\n",
        "abs((insaid[insaid_numeric_col[0]].mean() ) - (insaid[insaid_numeric_col[0]].median() ))"
      ],
      "execution_count": 4,
      "outputs": [
        {
          "output_type": "execute_result",
          "data": {
            "text/plain": [
              "4.397245631516569"
            ]
          },
          "metadata": {},
          "execution_count": 4
        }
      ]
    },
    {
      "cell_type": "code",
      "metadata": {
        "colab": {
          "base_uri": "https://localhost:8080/"
        },
        "id": "CnPJU-8ukCJq",
        "outputId": "e0960228-2b51-4ff8-8dd3-e1f962231b6a"
      },
      "source": [
        "###     amount     \n",
        "abs((insaid[insaid_numeric_col[1]].mean() ) - (insaid[insaid_numeric_col[1]].median() )  )"
      ],
      "execution_count": 5,
      "outputs": [
        {
          "output_type": "execute_result",
          "data": {
            "text/plain": [
              "104989.96354912291"
            ]
          },
          "metadata": {},
          "execution_count": 5
        }
      ]
    },
    {
      "cell_type": "code",
      "metadata": {
        "colab": {
          "base_uri": "https://localhost:8080/"
        },
        "id": "iSFA1mPckMQq",
        "outputId": "15d2aa5c-9d1e-4ba6-8e67-799383e553c1"
      },
      "source": [
        "###  oldbalanceOrg\n",
        "abs((insaid[insaid_numeric_col[2]].mean() ) - (insaid[insaid_numeric_col[2]].median() ))"
      ],
      "execution_count": 6,
      "outputs": [
        {
          "output_type": "execute_result",
          "data": {
            "text/plain": [
              "819675.1040744851"
            ]
          },
          "metadata": {},
          "execution_count": 6
        }
      ]
    },
    {
      "cell_type": "code",
      "metadata": {
        "colab": {
          "base_uri": "https://localhost:8080/"
        },
        "id": "HPPBdpWakMGF",
        "outputId": "acfc0c37-f526-4827-cd2a-dfeef233ae1e"
      },
      "source": [
        "### newbalanceOrig\n",
        "insaid_numeric_col[3]\n",
        "abs((insaid[insaid_numeric_col[3]].mean() ) - (insaid[insaid_numeric_col[3]].median() ))"
      ],
      "execution_count": 7,
      "outputs": [
        {
          "output_type": "execute_result",
          "data": {
            "text/plain": [
              "855113.6685785672"
            ]
          },
          "metadata": {},
          "execution_count": 7
        }
      ]
    },
    {
      "cell_type": "code",
      "metadata": {
        "colab": {
          "base_uri": "https://localhost:8080/"
        },
        "id": "Qpvlu2VZkL_r",
        "outputId": "846980c5-66ed-4860-b065-b2d981a37c8f"
      },
      "source": [
        "### oldbalanceDest\n",
        "insaid_numeric_col[4]\n",
        "abs((insaid[insaid_numeric_col[4]].mean() ) - (insaid[insaid_numeric_col[4]].median() ))"
      ],
      "execution_count": 8,
      "outputs": [
        {
          "output_type": "execute_result",
          "data": {
            "text/plain": [
              "967996.0015196998"
            ]
          },
          "metadata": {},
          "execution_count": 8
        }
      ]
    },
    {
      "cell_type": "code",
      "metadata": {
        "colab": {
          "base_uri": "https://localhost:8080/"
        },
        "id": "hEaI2XgdkL5n",
        "outputId": "6762c8b4-d8f8-453e-c956-7d15beafd2ca"
      },
      "source": [
        "### newbalanceDest\n",
        "insaid_numeric_col[5]\n",
        "abs((insaid[insaid_numeric_col[5]].mean() ) - (insaid[insaid_numeric_col[5]].median() ))"
      ],
      "execution_count": 9,
      "outputs": [
        {
          "output_type": "execute_result",
          "data": {
            "text/plain": [
              "1010334.9582020713"
            ]
          },
          "metadata": {},
          "execution_count": 9
        }
      ]
    },
    {
      "cell_type": "code",
      "metadata": {
        "colab": {
          "base_uri": "https://localhost:8080/"
        },
        "id": "im-YMFSokL0A",
        "outputId": "87c679f5-7b2d-47a6-e014-1cb9a06a591a"
      },
      "source": [
        "### isFraud\n",
        "insaid_numeric_col[6]\n",
        "abs((insaid[insaid_numeric_col[6]].mean() ) - (insaid[insaid_numeric_col[6]].median() ))"
      ],
      "execution_count": 10,
      "outputs": [
        {
          "output_type": "execute_result",
          "data": {
            "text/plain": [
              "0.001290820448180152"
            ]
          },
          "metadata": {},
          "execution_count": 10
        }
      ]
    },
    {
      "cell_type": "code",
      "metadata": {
        "colab": {
          "base_uri": "https://localhost:8080/"
        },
        "id": "HQByxt4VkLtp",
        "outputId": "808d6a26-3f9e-4d0c-d6ea-e88e818a690a"
      },
      "source": [
        "### isFlaggedFraud\n",
        "insaid_numeric_col[7]\n",
        "abs((insaid[insaid_numeric_col[7]].mean() ) - (insaid[insaid_numeric_col[7]].median() ))"
      ],
      "execution_count": 11,
      "outputs": [
        {
          "output_type": "execute_result",
          "data": {
            "text/plain": [
              "2.51468734577894e-06"
            ]
          },
          "metadata": {},
          "execution_count": 11
        }
      ]
    },
    {
      "cell_type": "markdown",
      "metadata": {
        "id": "S_ZuGzh6op9d"
      },
      "source": [
        "**oldbalanceOrg** , **newbalanceOrig** , **oldbalanceDest** , **newbalanceDest**\n",
        " all have outliers.\n"
      ]
    },
    {
      "cell_type": "markdown",
      "metadata": {
        "id": "sRkreN4cs488"
      },
      "source": [
        "*Remove outliers using Quantile based flooring and clapping*\n",
        "\n",
        "**Amount**"
      ]
    },
    {
      "cell_type": "code",
      "metadata": {
        "colab": {
          "base_uri": "https://localhost:8080/"
        },
        "id": "ASwIzaRhkLoO",
        "outputId": "e7ee5ac5-3c59-43b2-b8a7-0f18d83af8b5"
      },
      "source": [
        "print(insaid['amount'].skew())\n",
        "lessthan_10 = insaid['amount'].quantile(0.10)\n",
        "morethan_90 = insaid['amount'].quantile(0.90)"
      ],
      "execution_count": 12,
      "outputs": [
        {
          "output_type": "stream",
          "text": [
            "30.99394948249038\n"
          ],
          "name": "stdout"
        }
      ]
    },
    {
      "cell_type": "code",
      "metadata": {
        "colab": {
          "base_uri": "https://localhost:8080/"
        },
        "id": "cvqUCT4LkLje",
        "outputId": "944a6b33-2fa4-4acc-9f9e-41db4bede54d"
      },
      "source": [
        "insaid['amount'] = np.where(insaid['amount']< lessthan_10 , lessthan_10, insaid['amount'])\n",
        "insaid['amount'] = np.where(insaid['amount']> morethan_90 , morethan_90, insaid['amount'])\n",
        "insaid['amount'].skew()"
      ],
      "execution_count": 13,
      "outputs": [
        {
          "output_type": "execute_result",
          "data": {
            "text/plain": [
              "0.8046460444556197"
            ]
          },
          "metadata": {},
          "execution_count": 13
        }
      ]
    },
    {
      "cell_type": "markdown",
      "metadata": {
        "id": "DXgC7gwDMRNM"
      },
      "source": [
        "**newbalanceOrig**"
      ]
    },
    {
      "cell_type": "code",
      "metadata": {
        "colab": {
          "base_uri": "https://localhost:8080/"
        },
        "id": "EEB64yIakLHv",
        "outputId": "f0c09c60-71ad-499f-bcf5-43aa5d12f4a0"
      },
      "source": [
        "print(insaid['newbalanceOrig'].skew())\n",
        "\n",
        "insaid['newbalanceOrig'] = np.where(insaid['newbalanceOrig']< lessthan_10 , lessthan_10, insaid['newbalanceOrig'])\n",
        "insaid['newbalanceOrig'] = np.where(insaid['newbalanceOrig']> morethan_90 , morethan_90, insaid['newbalanceOrig'])\n",
        "insaid['newbalanceOrig'].skew()"
      ],
      "execution_count": 14,
      "outputs": [
        {
          "output_type": "stream",
          "text": [
            "5.176884001159233\n"
          ],
          "name": "stdout"
        },
        {
          "output_type": "execute_result",
          "data": {
            "text/plain": [
              "1.2382985209345365"
            ]
          },
          "metadata": {},
          "execution_count": 14
        }
      ]
    },
    {
      "cell_type": "markdown",
      "metadata": {
        "id": "goxS6q-BOAuq"
      },
      "source": [
        "**oldbalanceDest**"
      ]
    },
    {
      "cell_type": "markdown",
      "metadata": {
        "id": "o_h2f5zXNn05"
      },
      "source": [
        ""
      ]
    },
    {
      "cell_type": "code",
      "metadata": {
        "colab": {
          "base_uri": "https://localhost:8080/"
        },
        "id": "WNDqldKpNi8j",
        "outputId": "fb9bfd93-b0bc-48b9-f812-043cb209abf3"
      },
      "source": [
        "print(insaid['oldbalanceDest'].skew())\n",
        "insaid['oldbalanceDest'] = np.where(insaid['oldbalanceDest']< lessthan_10 , lessthan_10, insaid['oldbalanceDest'])\n",
        "insaid['oldbalanceDest'] = np.where(insaid['oldbalanceDest']> morethan_90 , morethan_90, insaid['oldbalanceDest'])\n",
        "insaid['oldbalanceDest'].skew()"
      ],
      "execution_count": 15,
      "outputs": [
        {
          "output_type": "stream",
          "text": [
            "19.921757915791062\n"
          ],
          "name": "stdout"
        },
        {
          "output_type": "execute_result",
          "data": {
            "text/plain": [
              "0.10285904254115923"
            ]
          },
          "metadata": {},
          "execution_count": 15
        }
      ]
    },
    {
      "cell_type": "markdown",
      "metadata": {
        "id": "OI-KzL8jOaZ4"
      },
      "source": [
        "**newbalanceDest**"
      ]
    },
    {
      "cell_type": "code",
      "metadata": {
        "colab": {
          "base_uri": "https://localhost:8080/"
        },
        "id": "o2HCA7T8kK2c",
        "outputId": "4c8e8685-a794-4b3e-c2b3-afae25d11d81"
      },
      "source": [
        "print(insaid['newbalanceDest'].skew())\n",
        "insaid['newbalanceDest'] = np.where(insaid['newbalanceDest']< lessthan_10 , lessthan_10, insaid['newbalanceDest'])\n",
        "insaid['newbalanceDest'] = np.where(insaid['newbalanceDest']> morethan_90 , morethan_90, insaid['newbalanceDest'])\n",
        "insaid['newbalanceDest'].skew()"
      ],
      "execution_count": 16,
      "outputs": [
        {
          "output_type": "stream",
          "text": [
            "19.352302057660165\n"
          ],
          "name": "stdout"
        },
        {
          "output_type": "execute_result",
          "data": {
            "text/plain": [
              "-0.06748173621229811"
            ]
          },
          "metadata": {},
          "execution_count": 16
        }
      ]
    },
    {
      "cell_type": "markdown",
      "metadata": {
        "id": "R1Ko8YtcRcEx"
      },
      "source": [
        "Outliers are removed."
      ]
    },
    {
      "cell_type": "markdown",
      "metadata": {
        "id": "73YWCEmfRgRK"
      },
      "source": [
        "## Multicollinearity"
      ]
    },
    {
      "cell_type": "markdown",
      "metadata": {
        "id": "R5lv-JPvhkpu"
      },
      "source": [
        "Building model using all variables"
      ]
    },
    {
      "cell_type": "code",
      "metadata": {
        "colab": {
          "base_uri": "https://localhost:8080/"
        },
        "id": "aXgixexgex-5",
        "outputId": "d959def5-8c61-4f4c-8c58-34274e10eeb7"
      },
      "source": [
        "from sklearn.linear_model import LogisticRegression\n",
        "logistic1= LogisticRegression()\n",
        "###fitting logistic regression for active customer on rest of the variables#######\n",
        "logistic1.fit(insaid[[\"step\"]+['amount']+['oldbalanceOrg']+['newbalanceOrig']+['oldbalanceDest']+['newbalanceDest']+['isFlaggedFraud']],insaid[['isFraud']])\n"
      ],
      "execution_count": 17,
      "outputs": [
        {
          "output_type": "stream",
          "text": [
            "/usr/local/lib/python3.7/dist-packages/sklearn/utils/validation.py:760: DataConversionWarning: A column-vector y was passed when a 1d array was expected. Please change the shape of y to (n_samples, ), for example using ravel().\n",
            "  y = column_or_1d(y, warn=True)\n"
          ],
          "name": "stderr"
        },
        {
          "output_type": "execute_result",
          "data": {
            "text/plain": [
              "LogisticRegression(C=1.0, class_weight=None, dual=False, fit_intercept=True,\n",
              "                   intercept_scaling=1, l1_ratio=None, max_iter=100,\n",
              "                   multi_class='auto', n_jobs=None, penalty='l2',\n",
              "                   random_state=None, solver='lbfgs', tol=0.0001, verbose=0,\n",
              "                   warm_start=False)"
            ]
          },
          "metadata": {},
          "execution_count": 17
        }
      ]
    },
    {
      "cell_type": "code",
      "metadata": {
        "colab": {
          "base_uri": "https://localhost:8080/"
        },
        "id": "tRUy8Vrgf2Cm",
        "outputId": "233a27d7-b85d-4a87-f374-f2511562f50c"
      },
      "source": [
        "print(\"Intercept\", logistic1.intercept_)\n",
        "print(\"Coefficients\", logistic1.coef_)\n"
      ],
      "execution_count": 18,
      "outputs": [
        {
          "output_type": "stream",
          "text": [
            "Intercept [-2.68107391e-05]\n",
            "Coefficients [[-4.12345757e-03  4.03105915e-06  1.01923537e-05 -9.44858086e-04\n",
            "  -1.22217228e-06 -1.11757954e-05  6.68196351e-08]]\n"
          ],
          "name": "stdout"
        }
      ]
    },
    {
      "cell_type": "code",
      "metadata": {
        "id": "gAoa8sA5iiND",
        "colab": {
          "base_uri": "https://localhost:8080/"
        },
        "outputId": "194adcb5-c4c1-4d5d-9643-2eecd24c429c"
      },
      "source": [
        "import statsmodels.api as sm\n",
        "m1=sm.Logit(insaid['isFraud'],insaid[[\"step\"]+['amount']+['oldbalanceOrg']+['newbalanceOrig']+['oldbalanceDest']+['newbalanceDest']])\n",
        "m1.fit()\n"
      ],
      "execution_count": 19,
      "outputs": [
        {
          "output_type": "stream",
          "text": [
            "/usr/local/lib/python3.7/dist-packages/statsmodels/tools/_testing.py:19: FutureWarning: pandas.util.testing is deprecated. Use the functions in the public API at pandas.testing instead.\n",
            "  import pandas.util.testing as tm\n"
          ],
          "name": "stderr"
        },
        {
          "output_type": "stream",
          "text": [
            "Optimization terminated successfully.\n",
            "         Current function value: 0.009679\n",
            "         Iterations 16\n"
          ],
          "name": "stdout"
        },
        {
          "output_type": "execute_result",
          "data": {
            "text/plain": [
              "<statsmodels.discrete.discrete_model.BinaryResultsWrapper at 0x7f5de14b7350>"
            ]
          },
          "metadata": {},
          "execution_count": 19
        }
      ]
    },
    {
      "cell_type": "markdown",
      "metadata": {
        "id": "hz-4I7UGdhRc"
      },
      "source": [
        "step, amount, oldbalanceOrg, newbalanaceOrig, oldbalanceDest, newbalanceDest these all variables are impactful variables."
      ]
    },
    {
      "cell_type": "markdown",
      "metadata": {
        "id": "US101VEhfDDe"
      },
      "source": [
        "# Task 2: Describe your fraud detection model in ellaboration"
      ]
    },
    {
      "cell_type": "markdown",
      "metadata": {
        "id": "4mNqaBWumzbm"
      },
      "source": [
        "I build a Logistic Model and found that the accuracy ofmy model was 99%. I concluded that using the confusion matrix. In the model I considered all the variable and found that only few of them were impactful. they are step, amount, oldbalanceOrg, newbalanaceOrig, oldbalanceDest, newbalanceDest.The most impact full is **newbalanceOrig** column.\n",
        "\n",
        "Given any customer information such as step, amount, oldbalanceOrg, newbalanaceOrig, oldbalanceDest, newbalanceDest we can use our MOdel outputs to tell that whether the customer is Fraud or not. Simply by putting the data in following formula: "
      ]
    },
    {
      "cell_type": "code",
      "metadata": {
        "colab": {
          "base_uri": "https://localhost:8080/",
          "height": 142
        },
        "id": "jTv4ezXknQ6b",
        "outputId": "564faec6-8bf5-4e6a-aac0-21b3536a4beb"
      },
      "source": [
        "y = (exp(logistic1.coef_[0][0])*a + logistic1.coef_[0][1]*b + logistic1.coef_[0][2]*c + logistic1.coef_[0][3]*d +  logistic1.coef_[0][4] * e + logistic1.coef_[0][5] * f))/1+ (exp(logistic1.coef_[0][0])*a + logistic1.coef_[0][1]*b + logistic1.coef_[0][2]*c + logistic1.coef_[0][3]*d +  logistic1.coef_[0][4] * e + logistic1.coef_[0][5] * f))"
      ],
      "execution_count": 20,
      "outputs": [
        {
          "output_type": "error",
          "ename": "SyntaxError",
          "evalue": "ignored",
          "traceback": [
            "\u001b[0;36m  File \u001b[0;32m\"<ipython-input-20-7abf17b7932e>\"\u001b[0;36m, line \u001b[0;32m1\u001b[0m\n\u001b[0;31m    y = (exp(logistic1.coef_[0][0])*a + logistic1.coef_[0][1]*b + logistic1.coef_[0][2]*c + logistic1.coef_[0][3]*d +  logistic1.coef_[0][4] * e + logistic1.coef_[0][5] * f))/1+ (exp(logistic1.coef_[0][0])*a + logistic1.coef_[0][1]*b + logistic1.coef_[0][2]*c + logistic1.coef_[0][3]*d +  logistic1.coef_[0][4] * e + logistic1.coef_[0][5] * f))\u001b[0m\n\u001b[0m                                                                                                                                                                             ^\u001b[0m\n\u001b[0;31mSyntaxError\u001b[0m\u001b[0;31m:\u001b[0m invalid syntax\n"
          ]
        }
      ]
    },
    {
      "cell_type": "markdown",
      "metadata": {
        "id": "Y1iTVFhYnWS-"
      },
      "source": [
        " where  a = step , b = smount, c = oldbalanceOrg, d = newbalanaceOrig, e = oldbalanceDest, f = newbalanceDest\n"
      ]
    },
    {
      "cell_type": "markdown",
      "metadata": {
        "id": "GMoVAbp-obq-"
      },
      "source": [
        "# Task 3: How did you select variables to be included in the model."
      ]
    },
    {
      "cell_type": "markdown",
      "metadata": {
        "id": "wmDKcq86onHr"
      },
      "source": [
        "I built a logistic regression model, from  the summary of this model we concluded that the variables with pvalue less than 0.05  we reject the null hypothesis that coeficient of that variable is 0, so this are impactful  variablees.\n"
      ]
    },
    {
      "cell_type": "markdown",
      "metadata": {
        "id": "nzTZqUK-p17_"
      },
      "source": [
        "# Task4: Demostrate the performance of the model by using best set of rtools"
      ]
    },
    {
      "cell_type": "code",
      "metadata": {
        "id": "SzqdxOQ2f724"
      },
      "source": [
        "# Confusion Matrix & Accuracy\n",
        "import numpy as np\n",
        "import matplotlib.pyplot as plt\n",
        "from sklearn.metrics import confusion_matrix\n",
        "\n",
        "predict1=logistic1.predict(insaid[['step']+['amount']+['oldbalanceOrg']+['newbalanceOrig']+['oldbalanceDest']+['newbalanceDest']+['isFlaggedFraud']])\n",
        "predict1\n",
        "\n",
        "cm1 = confusion_matrix(insaid[['isFraud']],predict1)\n",
        "print(cm1)"
      ],
      "execution_count": null,
      "outputs": []
    },
    {
      "cell_type": "code",
      "metadata": {
        "id": "4jwCp85Tha5e"
      },
      "source": [
        "\n",
        "print(\"col sums\", sum(cm1))\n",
        "total1=sum(sum(cm1))\n",
        "print(\"Total\", total1)\n"
      ],
      "execution_count": null,
      "outputs": []
    },
    {
      "cell_type": "code",
      "metadata": {
        "id": "sumFGlsVhhZe"
      },
      "source": [
        "accuracy1=(cm1[0,0]+cm1[1,1])/total1\n",
        "accuracy1"
      ],
      "execution_count": null,
      "outputs": []
    },
    {
      "cell_type": "code",
      "metadata": {
        "id": "DzkgmwvCTter"
      },
      "source": [
        ""
      ],
      "execution_count": null,
      "outputs": []
    },
    {
      "cell_type": "markdown",
      "metadata": {
        "id": "wzTNg6r1qOjD"
      },
      "source": [
        "# Task 5: What are the key factors that predict fradulent customers.\n",
        "\n",
        "\n",
        "\n",
        "\n",
        "\n",
        "\n",
        "\n",
        "\n",
        "\n",
        "\n",
        "\n",
        "\n",
        "\n",
        "\n",
        "\n",
        "\n",
        "\n",
        "\n",
        "\n",
        "\n",
        "\n",
        "\n",
        "\n",
        "\n",
        "\n",
        "\n",
        "\n"
      ]
    },
    {
      "cell_type": "code",
      "metadata": {
        "id": "yyEXdUvwcLxJ"
      },
      "source": [
        "# Wald Chi-square value\n",
        "abs(m1.fit().tvalues).sort_values(ascending=False)"
      ],
      "execution_count": null,
      "outputs": []
    },
    {
      "cell_type": "markdown",
      "metadata": {
        "id": "RjRwd8Uaezw8"
      },
      "source": [
        "The most impactful variable is newbalanceOrig"
      ]
    },
    {
      "cell_type": "markdown",
      "metadata": {
        "id": "wJWWEEyeqwwD"
      },
      "source": [
        "# Task6: Do these factors make sense?"
      ]
    },
    {
      "cell_type": "markdown",
      "metadata": {
        "id": "1552yq1PdFYI"
      },
      "source": [
        "Yes, This variable **newbalanceOrig** is the impactful variable as amount the person is adding as his/her new balance will make considerably tell whether the person will turn out to be faulted or not."
      ]
    },
    {
      "cell_type": "markdown",
      "metadata": {
        "id": "jZbCuwFXrEPa"
      },
      "source": [
        "# Task7 What kind of prevention should be adopted while company update its infrastructure"
      ]
    },
    {
      "cell_type": "markdown",
      "metadata": {
        "id": "xkqGRHmygqA5"
      },
      "source": [
        "More importance should be ginven to security, may that be physical or digital. This can be done by setting up CCTV cameras at the place of customer arrival so that the fraud customer if detected after can be spotted easily."
      ]
    },
    {
      "cell_type": "markdown",
      "metadata": {
        "id": "8TblwWx3rUDX"
      },
      "source": [
        "# Task 8 Assuming these actions have been implemented how would you determine if they work?"
      ]
    },
    {
      "cell_type": "markdown",
      "metadata": {
        "id": "F4S1Nn6ii2my"
      },
      "source": [
        "If this techniques are implemented then surely we can take action physically on the customer if he/she is detected fraud by our Model."
      ]
    },
    {
      "cell_type": "code",
      "metadata": {
        "id": "P5A9Fkuvi33h"
      },
      "source": [
        ""
      ],
      "execution_count": null,
      "outputs": []
    }
  ]
}